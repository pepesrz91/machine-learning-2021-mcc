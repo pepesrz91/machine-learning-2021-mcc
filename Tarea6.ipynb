{
  "nbformat": 4,
  "nbformat_minor": 0,
  "metadata": {
    "colab": {
      "name": "Tarea6.ipynb",
      "provenance": [],
      "collapsed_sections": [],
      "mount_file_id": "1TeP5UvGkv2JOelKz0MNFAjDYkYMRnecr",
      "authorship_tag": "ABX9TyOcJ7dUCAXBkk3Mcmly6gsX",
      "include_colab_link": true
    },
    "kernelspec": {
      "name": "python3",
      "display_name": "Python 3"
    },
    "language_info": {
      "name": "python"
    }
  },
  "cells": [
    {
      "cell_type": "markdown",
      "metadata": {
        "id": "view-in-github",
        "colab_type": "text"
      },
      "source": [
        "<a href=\"https://colab.research.google.com/github/pepesrz91/machine-learning-2021-mcc/blob/master/Tarea6.ipynb\" target=\"_parent\"><img src=\"https://colab.research.google.com/assets/colab-badge.svg\" alt=\"Open In Colab\"/></a>"
      ]
    },
    {
      "cell_type": "markdown",
      "metadata": {
        "id": "gr2a_aQDKljB"
      },
      "source": [
        "![imagen.png](https://i.imgur.com/d17FLgS.png)\n",
        "\n",
        "José Juan Suárez Ramos<br>\n",
        "A01224078<br>\n",
        "Tarea 6 "
      ]
    },
    {
      "cell_type": "code",
      "metadata": {
        "id": "2Q3tHBH-JmGH"
      },
      "source": [
        "import pandas as pd\n",
        "import numpy as np\n",
        "import scipy as sp\n",
        "from scipy import stats\n",
        "import matplotlib.pyplot as plt\n",
        "from sklearn import preprocessing\n",
        "from mlxtend.preprocessing import minmax_scaling\n",
        "from sklearn.preprocessing import StandardScaler\n",
        "from sklearn.metrics import accuracy_score\n",
        "from sklearn.metrics import confusion_matrix\n",
        "from sklearn.metrics import classification_report\n",
        "from sklearn.metrics import precision_recall_fscore_support as score\n",
        "from sklearn.model_selection import cross_validate\n",
        "from sklearn.metrics import make_scorer, accuracy_score, precision_score, recall_score, f1_score\n",
        "\n",
        "\n",
        "import seaborn as sns\n",
        "from sklearn.model_selection import RepeatedStratifiedKFold\n",
        "from sklearn.neighbors import KNeighborsClassifier\n",
        "from sklearn.neural_network import MLPClassifier\n",
        "from sklearn.svm import SVC"
      ],
      "execution_count": 1,
      "outputs": []
    },
    {
      "cell_type": "code",
      "metadata": {
        "id": "zncsj7v4Eyj_"
      },
      "source": [
        "# Cambiamos nombres de columnas por algo más concreto\n",
        "# PAO = Patients age at operation\n",
        "# YPO = Yar of patient's Operation\n",
        "# NPAN = Number of Positive Auxiliary Nodes\n",
        "# Survival { 1: Patient survived 5 years or longer. 2: Patient died within 5 years}\n",
        "colnames = [\"PAO\", \"YPO\", \"NPAN\", \"Survival\"]"
      ],
      "execution_count": 2,
      "outputs": []
    },
    {
      "cell_type": "code",
      "metadata": {
        "colab": {
          "base_uri": "https://localhost:8080/"
        },
        "id": "UyRYUfGBJjGV",
        "outputId": "8effa389-60c6-4cca-f3b3-8853ef922b0a"
      },
      "source": [
        "\n",
        "data =  pd.read_csv('/content/drive/MyDrive/Presentaciones/haberman.data', sep=\",\", names=colnames)\n",
        "print(data)"
      ],
      "execution_count": 3,
      "outputs": [
        {
          "output_type": "stream",
          "name": "stdout",
          "text": [
            "     PAO  YPO  NPAN  Survival\n",
            "0     30   64     1         1\n",
            "1     30   62     3         1\n",
            "2     30   65     0         1\n",
            "3     31   59     2         1\n",
            "4     31   65     4         1\n",
            "..   ...  ...   ...       ...\n",
            "301   75   62     1         1\n",
            "302   76   67     0         1\n",
            "303   77   65     3         1\n",
            "304   78   65     1         2\n",
            "305   83   58     2         2\n",
            "\n",
            "[306 rows x 4 columns]\n"
          ]
        }
      ]
    },
    {
      "cell_type": "code",
      "metadata": {
        "colab": {
          "base_uri": "https://localhost:8080/",
          "height": 204
        },
        "id": "3RBACIiUJkbU",
        "outputId": "2d3714b8-9105-43f2-e21e-51e8b82e16c9"
      },
      "source": [
        "data.head()"
      ],
      "execution_count": 4,
      "outputs": [
        {
          "output_type": "execute_result",
          "data": {
            "text/html": [
              "<div>\n",
              "<style scoped>\n",
              "    .dataframe tbody tr th:only-of-type {\n",
              "        vertical-align: middle;\n",
              "    }\n",
              "\n",
              "    .dataframe tbody tr th {\n",
              "        vertical-align: top;\n",
              "    }\n",
              "\n",
              "    .dataframe thead th {\n",
              "        text-align: right;\n",
              "    }\n",
              "</style>\n",
              "<table border=\"1\" class=\"dataframe\">\n",
              "  <thead>\n",
              "    <tr style=\"text-align: right;\">\n",
              "      <th></th>\n",
              "      <th>PAO</th>\n",
              "      <th>YPO</th>\n",
              "      <th>NPAN</th>\n",
              "      <th>Survival</th>\n",
              "    </tr>\n",
              "  </thead>\n",
              "  <tbody>\n",
              "    <tr>\n",
              "      <th>0</th>\n",
              "      <td>30</td>\n",
              "      <td>64</td>\n",
              "      <td>1</td>\n",
              "      <td>1</td>\n",
              "    </tr>\n",
              "    <tr>\n",
              "      <th>1</th>\n",
              "      <td>30</td>\n",
              "      <td>62</td>\n",
              "      <td>3</td>\n",
              "      <td>1</td>\n",
              "    </tr>\n",
              "    <tr>\n",
              "      <th>2</th>\n",
              "      <td>30</td>\n",
              "      <td>65</td>\n",
              "      <td>0</td>\n",
              "      <td>1</td>\n",
              "    </tr>\n",
              "    <tr>\n",
              "      <th>3</th>\n",
              "      <td>31</td>\n",
              "      <td>59</td>\n",
              "      <td>2</td>\n",
              "      <td>1</td>\n",
              "    </tr>\n",
              "    <tr>\n",
              "      <th>4</th>\n",
              "      <td>31</td>\n",
              "      <td>65</td>\n",
              "      <td>4</td>\n",
              "      <td>1</td>\n",
              "    </tr>\n",
              "  </tbody>\n",
              "</table>\n",
              "</div>"
            ],
            "text/plain": [
              "   PAO  YPO  NPAN  Survival\n",
              "0   30   64     1         1\n",
              "1   30   62     3         1\n",
              "2   30   65     0         1\n",
              "3   31   59     2         1\n",
              "4   31   65     4         1"
            ]
          },
          "metadata": {},
          "execution_count": 4
        }
      ]
    },
    {
      "cell_type": "code",
      "metadata": {
        "colab": {
          "base_uri": "https://localhost:8080/"
        },
        "id": "aQee8duCJq0d",
        "outputId": "e8caa7c0-5ad5-4587-a3e3-fbd3ef3661a5"
      },
      "source": [
        "print(data.dtypes)"
      ],
      "execution_count": 5,
      "outputs": [
        {
          "output_type": "stream",
          "name": "stdout",
          "text": [
            "PAO         int64\n",
            "YPO         int64\n",
            "NPAN        int64\n",
            "Survival    int64\n",
            "dtype: object\n"
          ]
        }
      ]
    },
    {
      "cell_type": "code",
      "metadata": {
        "colab": {
          "base_uri": "https://localhost:8080/"
        },
        "id": "hr58atQnJt1S",
        "outputId": "aab9a8a4-953b-4dc9-a6d2-ff9c96b88c22"
      },
      "source": [
        "print(data.isna().sum())"
      ],
      "execution_count": 6,
      "outputs": [
        {
          "output_type": "stream",
          "name": "stdout",
          "text": [
            "PAO         0\n",
            "YPO         0\n",
            "NPAN        0\n",
            "Survival    0\n",
            "dtype: int64\n"
          ]
        }
      ]
    },
    {
      "cell_type": "code",
      "metadata": {
        "colab": {
          "base_uri": "https://localhost:8080/",
          "height": 316
        },
        "id": "EMmBNuJyKhOk",
        "outputId": "32f310bb-f09e-44f3-c667-57407c63b217"
      },
      "source": [
        "plt.hist(data[\"PAO\"])"
      ],
      "execution_count": 7,
      "outputs": [
        {
          "output_type": "execute_result",
          "data": {
            "text/plain": [
              "(array([16., 27., 46., 53., 55., 41., 41., 18.,  7.,  2.]),\n",
              " array([30. , 35.3, 40.6, 45.9, 51.2, 56.5, 61.8, 67.1, 72.4, 77.7, 83. ]),\n",
              " <a list of 10 Patch objects>)"
            ]
          },
          "metadata": {},
          "execution_count": 7
        },
        {
          "output_type": "display_data",
          "data": {
            "image/png": "[encoded data removed]",
            "text/plain": [
              "<Figure size 432x288 with 1 Axes>"
            ]
          },
          "metadata": {
            "needs_background": "light"
          }
        }
      ]
    },
    {
      "cell_type": "code",
      "metadata": {
        "colab": {
          "base_uri": "https://localhost:8080/",
          "height": 316
        },
        "id": "ybnSSsv8Krus",
        "outputId": "eb6a974b-e16a-411a-fcde-9806834181d5"
      },
      "source": [
        "plt.hist(data[\"YPO\"])"
      ],
      "execution_count": 8,
      "outputs": [
        {
          "output_type": "execute_result",
          "data": {
            "text/plain": [
              "(array([63., 28., 26., 23., 30., 31., 28., 28., 25., 24.]),\n",
              " array([58. , 59.1, 60.2, 61.3, 62.4, 63.5, 64.6, 65.7, 66.8, 67.9, 69. ]),\n",
              " <a list of 10 Patch objects>)"
            ]
          },
          "metadata": {},
          "execution_count": 8
        },
        {
          "output_type": "display_data",
          "data": {
            "image/png": "[encoded data removed]",
            "text/plain": [
              "<Figure size 432x288 with 1 Axes>"
            ]
          },
          "metadata": {
            "needs_background": "light"
          }
        }
      ]
    },
    {
      "cell_type": "code",
      "metadata": {
        "colab": {
          "base_uri": "https://localhost:8080/",
          "height": 316
        },
        "id": "Z490Fv_hKzIT",
        "outputId": "7f982995-e203-4551-d601-8996c6868c54"
      },
      "source": [
        "plt.hist(data[\"NPAN\"])"
      ],
      "execution_count": 9,
      "outputs": [
        {
          "output_type": "execute_result",
          "data": {
            "text/plain": [
              "(array([236.,  30.,  18.,   8.,   9.,   2.,   1.,   0.,   1.,   1.]),\n",
              " array([ 0. ,  5.2, 10.4, 15.6, 20.8, 26. , 31.2, 36.4, 41.6, 46.8, 52. ]),\n",
              " <a list of 10 Patch objects>)"
            ]
          },
          "metadata": {},
          "execution_count": 9
        },
        {
          "output_type": "display_data",
          "data": {
            "image/png": "[encoded data removed]",
            "text/plain": [
              "<Figure size 432x288 with 1 Axes>"
            ]
          },
          "metadata": {
            "needs_background": "light"
          }
        }
      ]
    },
    {
      "cell_type": "code",
      "metadata": {
        "id": "NHNAQAxcLM_D"
      },
      "source": [
        "min_max_scaler = preprocessing.MinMaxScaler()"
      ],
      "execution_count": 10,
      "outputs": []
    },
    {
      "cell_type": "markdown",
      "metadata": {
        "id": "PASwt_gSNUoC"
      },
      "source": [
        ""
      ]
    },
    {
      "cell_type": "code",
      "metadata": {
        "id": "PFrh9LygLRMo"
      },
      "source": [
        "\n",
        "# data[\"YPO\"] = minmax_scaling(data[\"YPO\"], columns=[0])"
      ],
      "execution_count": 11,
      "outputs": []
    },
    {
      "cell_type": "code",
      "metadata": {
        "colab": {
          "base_uri": "https://localhost:8080/",
          "height": 316
        },
        "id": "zVM6Zm9iNr7e",
        "outputId": "528c87c9-dc42-4f1c-9db3-64745b51e56c"
      },
      "source": [
        "plt.hist(data[\"YPO\"])"
      ],
      "execution_count": 12,
      "outputs": [
        {
          "output_type": "execute_result",
          "data": {
            "text/plain": [
              "(array([63., 28., 26., 23., 30., 31., 28., 28., 25., 24.]),\n",
              " array([58. , 59.1, 60.2, 61.3, 62.4, 63.5, 64.6, 65.7, 66.8, 67.9, 69. ]),\n",
              " <a list of 10 Patch objects>)"
            ]
          },
          "metadata": {},
          "execution_count": 12
        },
        {
          "output_type": "display_data",
          "data": {
            "image/png": "[encoded data removed]",
            "text/plain": [
              "<Figure size 432x288 with 1 Axes>"
            ]
          },
          "metadata": {
            "needs_background": "light"
          }
        }
      ]
    },
    {
      "cell_type": "code",
      "metadata": {
        "id": "kOtmokzkOnwp"
      },
      "source": [
        "# data[\"NPAN\"] = minmax_scaling(data[\"NPAN\"], columns=[0])"
      ],
      "execution_count": 13,
      "outputs": []
    },
    {
      "cell_type": "code",
      "metadata": {
        "colab": {
          "base_uri": "https://localhost:8080/",
          "height": 316
        },
        "id": "gJkkq3aJPjcO",
        "outputId": "3b08495c-4afd-4205-894b-e872f8fe4c4e"
      },
      "source": [
        "plt.hist(data[\"NPAN\"])"
      ],
      "execution_count": 14,
      "outputs": [
        {
          "output_type": "execute_result",
          "data": {
            "text/plain": [
              "(array([236.,  30.,  18.,   8.,   9.,   2.,   1.,   0.,   1.,   1.]),\n",
              " array([ 0. ,  5.2, 10.4, 15.6, 20.8, 26. , 31.2, 36.4, 41.6, 46.8, 52. ]),\n",
              " <a list of 10 Patch objects>)"
            ]
          },
          "metadata": {},
          "execution_count": 14
        },
        {
          "output_type": "display_data",
          "data": {
            "image/png": "[encoded data removed]",
            "text/plain": [
              "<Figure size 432x288 with 1 Axes>"
            ]
          },
          "metadata": {
            "needs_background": "light"
          }
        }
      ]
    },
    {
      "cell_type": "code",
      "metadata": {
        "colab": {
          "base_uri": "https://localhost:8080/",
          "height": 286
        },
        "id": "DKzZqingPrGV",
        "outputId": "a52fb55f-b8f8-4690-c268-58faaf35ce76"
      },
      "source": [
        "corr = data.corr()\n",
        "sns.heatmap(corr, \n",
        "        xticklabels=corr.columns,\n",
        "        yticklabels=corr.columns)"
      ],
      "execution_count": 15,
      "outputs": [
        {
          "output_type": "execute_result",
          "data": {
            "text/plain": [
              "<matplotlib.axes._subplots.AxesSubplot at 0x7f3b73e54f50>"
            ]
          },
          "metadata": {},
          "execution_count": 15
        },
        {
          "output_type": "display_data",
          "data": {
            "image/png": "[encoded data removed]",
            "text/plain": [
              "<Figure size 432x288 with 2 Axes>"
            ]
          },
          "metadata": {
            "needs_background": "light"
          }
        }
      ]
    },
    {
      "cell_type": "code",
      "metadata": {
        "colab": {
          "base_uri": "https://localhost:8080/"
        },
        "id": "TWuV_L9mPzq4",
        "outputId": "5de07451-86f2-4c71-ee14-1942df7d7778"
      },
      "source": [
        "import statsmodels.api as sm\n",
        "from sklearn.model_selection import KFold\n",
        "import sklearn.model_selection as model_selection\n",
        "from sklearn.linear_model import LinearRegression\n",
        "from sklearn.linear_model import LogisticRegression\n",
        "from sklearn.model_selection import cross_val_score"
      ],
      "execution_count": 16,
      "outputs": [
        {
          "output_type": "stream",
          "name": "stderr",
          "text": [
            "/usr/local/lib/python3.7/dist-packages/statsmodels/tools/_testing.py:19: FutureWarning: pandas.util.testing is deprecated. Use the functions in the public API at pandas.testing instead.\n",
            "  import pandas.util.testing as tm\n"
          ]
        }
      ]
    },
    {
      "cell_type": "markdown",
      "metadata": {
        "id": "47wXn78rRptC"
      },
      "source": [
        "# Cross validation configuration"
      ]
    },
    {
      "cell_type": "code",
      "metadata": {
        "id": "ClEtBUAJQUd0"
      },
      "source": [
        "scoring = {'accuracy' : make_scorer(accuracy_score), \n",
        "           'precision' : make_scorer(precision_score),\n",
        "           'recall' : make_scorer(recall_score), \n",
        "           'f1_score' : make_scorer(f1_score)}\n",
        "\n",
        "cv = RepeatedStratifiedKFold(n_splits=7, n_repeats=5)\n",
        "Y = data[\"Survival\"]\n",
        "X = data\n",
        "X.drop(\"Survival\", inplace=True, axis=1)\n",
        "\n",
        "trainX, testX, trainY, testY = model_selection.train_test_split(X, Y, train_size=0.8, shuffle=True,  random_state=None)"
      ],
      "execution_count": 17,
      "outputs": []
    },
    {
      "cell_type": "markdown",
      "metadata": {
        "id": "ob8tSixJGaZm"
      },
      "source": [
        "# Logistic Regression"
      ]
    },
    {
      "cell_type": "code",
      "metadata": {
        "colab": {
          "base_uri": "https://localhost:8080/",
          "height": 282
        },
        "id": "Dh5qzVGHRzqk",
        "outputId": "8471a8a1-0efc-4563-9884-e11d6df57150"
      },
      "source": [
        "# LR\n",
        "\n",
        "lr_model = LogisticRegression(class_weight=\"balanced\")\n",
        "lr_scores = cross_val_score(lr_model, trainX, trainY, scoring='accuracy', cv=cv)\n",
        "pd.DataFrame(lr_scores).boxplot()\n"
      ],
      "execution_count": 18,
      "outputs": [
        {
          "output_type": "execute_result",
          "data": {
            "text/plain": [
              "<matplotlib.axes._subplots.AxesSubplot at 0x7f3b6443afd0>"
            ]
          },
          "metadata": {},
          "execution_count": 18
        },
        {
          "output_type": "display_data",
          "data": {
            "image/png": "[encoded data removed]",
            "text/plain": [
              "<Figure size 432x288 with 1 Axes>"
            ]
          },
          "metadata": {
            "needs_background": "light"
          }
        }
      ]
    },
    {
      "cell_type": "code",
      "metadata": {
        "colab": {
          "base_uri": "https://localhost:8080/",
          "height": 283
        },
        "id": "b1p1cAci9-Al",
        "outputId": "f8f1f80b-da0c-4d9d-df8a-8f2d0b300663"
      },
      "source": [
        "### LR \n",
        "lr_model = LogisticRegression(class_weight=\"balanced\")\n",
        "\n",
        "lr_multiple_scores = cross_validate(lr_model, trainX, trainY, scoring=scoring, cv=cv)\n",
        "lr_complete_scores = pd.DataFrame(lr_multiple_scores)[ [\"test_recall\", \"test_accuracy\", \"test_f1_score\"]]\n",
        "\n",
        "lr_complete_scores.boxplot()"
      ],
      "execution_count": 19,
      "outputs": [
        {
          "output_type": "execute_result",
          "data": {
            "text/plain": [
              "<matplotlib.axes._subplots.AxesSubplot at 0x7f3b644b9d10>"
            ]
          },
          "metadata": {},
          "execution_count": 19
        },
        {
          "output_type": "display_data",
          "data": {
            "image/png": "[encoded data removed]",
            "text/plain": [
              "<Figure size 432x288 with 1 Axes>"
            ]
          },
          "metadata": {
            "needs_background": "light"
          }
        }
      ]
    },
    {
      "cell_type": "markdown",
      "metadata": {
        "id": "T3BTANs4Gexd"
      },
      "source": [
        "# Logistic Regression Without Weights"
      ]
    },
    {
      "cell_type": "code",
      "metadata": {
        "colab": {
          "base_uri": "https://localhost:8080/",
          "height": 285
        },
        "id": "QDdrNDnNEznI",
        "outputId": "2f4cb1bd-ce0f-47d5-e74f-2027b3ff2214"
      },
      "source": [
        "# LR no weigths\n",
        "lr_model_no_w = LogisticRegression()\n",
        "lr_no_w_scores = cross_val_score(lr_model_no_w, trainX, trainY, scoring='accuracy', cv=cv)\n",
        "pd.DataFrame(lr_no_w_scores).boxplot()\n"
      ],
      "execution_count": 20,
      "outputs": [
        {
          "output_type": "execute_result",
          "data": {
            "text/plain": [
              "<matplotlib.axes._subplots.AxesSubplot at 0x7f3b64378050>"
            ]
          },
          "metadata": {},
          "execution_count": 20
        },
        {
          "output_type": "display_data",
          "data": {
            "image/png": "[encoded data removed]",
            "text/plain": [
              "<Figure size 432x288 with 1 Axes>"
            ]
          },
          "metadata": {
            "needs_background": "light"
          }
        }
      ]
    },
    {
      "cell_type": "code",
      "metadata": {
        "colab": {
          "base_uri": "https://localhost:8080/",
          "height": 283
        },
        "id": "mwsIYpdzE53M",
        "outputId": "e7cc0a7a-b72b-4157-f196-ed0b5f77b468"
      },
      "source": [
        "### LR no weights\n",
        "lr_model_no_w = LogisticRegression(class_weight=\"balanced\")\n",
        "\n",
        "lr_no_weights_multiple_scores = cross_validate(lr_model_no_w, trainX, trainY, scoring=scoring, cv=cv)\n",
        "lr_no_w_complete_scores = pd.DataFrame(lr_no_weights_multiple_scores)[ [\"test_recall\", \"test_accuracy\", \"test_f1_score\"]]\n",
        "\n",
        "lr_no_w_complete_scores.boxplot()"
      ],
      "execution_count": 21,
      "outputs": [
        {
          "output_type": "execute_result",
          "data": {
            "text/plain": [
              "<matplotlib.axes._subplots.AxesSubplot at 0x7f3b64263a50>"
            ]
          },
          "metadata": {},
          "execution_count": 21
        },
        {
          "output_type": "display_data",
          "data": {
            "image/png": "[encoded data removed]",
            "text/plain": [
              "<Figure size 432x288 with 1 Axes>"
            ]
          },
          "metadata": {
            "needs_background": "light"
          }
        }
      ]
    },
    {
      "cell_type": "markdown",
      "metadata": {
        "id": "G_js6oxIGkqu"
      },
      "source": [
        "# SVM"
      ]
    },
    {
      "cell_type": "code",
      "metadata": {
        "colab": {
          "base_uri": "https://localhost:8080/",
          "height": 282
        },
        "id": "3sg3SIWDtAuH",
        "outputId": "e5bb483d-a05c-42ca-ff28-1a92cb499dd4"
      },
      "source": [
        "### SVM\n",
        "svm_model = SVC()\n",
        "\n",
        "svm_scores = cross_val_score(svm_model, trainX, trainY, scoring='accuracy', cv=cv)\n",
        "pd.DataFrame(svm_scores).boxplot()"
      ],
      "execution_count": 22,
      "outputs": [
        {
          "output_type": "execute_result",
          "data": {
            "text/plain": [
              "<matplotlib.axes._subplots.AxesSubplot at 0x7f3b643feb90>"
            ]
          },
          "metadata": {},
          "execution_count": 22
        },
        {
          "output_type": "display_data",
          "data": {
            "image/png": "[encoded data removed]",
            "text/plain": [
              "<Figure size 432x288 with 1 Axes>"
            ]
          },
          "metadata": {
            "needs_background": "light"
          }
        }
      ]
    },
    {
      "cell_type": "code",
      "metadata": {
        "id": "-YLoyq1r7O-A"
      },
      "source": [
        ""
      ],
      "execution_count": 22,
      "outputs": []
    },
    {
      "cell_type": "code",
      "metadata": {
        "colab": {
          "base_uri": "https://localhost:8080/",
          "height": 283
        },
        "id": "Y8i3rRvc7PFF",
        "outputId": "003c18f3-add5-4fd6-cfee-933ee7d425db"
      },
      "source": [
        "### SVM\n",
        "svm_model = SVC()\n",
        "\n",
        "svm_multiple_scores = cross_validate(svm_model, trainX, trainY, scoring=scoring, cv=cv)\n",
        "svm_complete_scores = pd.DataFrame(svm_multiple_scores)[ [\"test_recall\", \"test_accuracy\", \"test_f1_score\"]]\n",
        "\n",
        "svm_complete_scores.boxplot()"
      ],
      "execution_count": 23,
      "outputs": [
        {
          "output_type": "execute_result",
          "data": {
            "text/plain": [
              "<matplotlib.axes._subplots.AxesSubplot at 0x7f3b641fba50>"
            ]
          },
          "metadata": {},
          "execution_count": 23
        },
        {
          "output_type": "display_data",
          "data": {
            "image/png": "[encoded data removed]",
            "text/plain": [
              "<Figure size 432x288 with 1 Axes>"
            ]
          },
          "metadata": {
            "needs_background": "light"
          }
        }
      ]
    },
    {
      "cell_type": "markdown",
      "metadata": {
        "id": "ObcHesCfGolh"
      },
      "source": [
        "# MLP "
      ]
    },
    {
      "cell_type": "code",
      "metadata": {
        "colab": {
          "base_uri": "https://localhost:8080/",
          "height": 282
        },
        "id": "7RdLk1_SwqU_",
        "outputId": "69cb28ee-3280-418c-b0b8-2c2d5da9d42a"
      },
      "source": [
        "### MLP\n",
        "mlp_model = MLPClassifier()\n",
        "mlp_scores = cross_val_score(mlp_model, trainX, trainY, scoring='accuracy', cv=cv)\n",
        "pd.DataFrame(mlp_scores).boxplot()"
      ],
      "execution_count": 24,
      "outputs": [
        {
          "output_type": "execute_result",
          "data": {
            "text/plain": [
              "<matplotlib.axes._subplots.AxesSubplot at 0x7f3b73f67050>"
            ]
          },
          "metadata": {},
          "execution_count": 24
        },
        {
          "output_type": "display_data",
          "data": {
            "image/png": "[encoded data removed]",
            "text/plain": [
              "<Figure size 432x288 with 1 Axes>"
            ]
          },
          "metadata": {
            "needs_background": "light"
          }
        }
      ]
    },
    {
      "cell_type": "code",
      "metadata": {
        "colab": {
          "base_uri": "https://localhost:8080/",
          "height": 283
        },
        "id": "lu6HBvEZ-TS0",
        "outputId": "b15f04a5-d3ed-46c8-8a35-510c3160d89f"
      },
      "source": [
        "### MLP\n",
        "mlp_model = MLPClassifier()\n",
        "\n",
        "mlp_multiple_scores = cross_validate(mlp_model, trainX, trainY, scoring=scoring, cv=cv)\n",
        "mlp_complete_scores = pd.DataFrame(mlp_multiple_scores)[ [\"test_recall\", \"test_accuracy\", \"test_f1_score\"]]\n",
        "\n",
        "mlp_complete_scores.boxplot()"
      ],
      "execution_count": 25,
      "outputs": [
        {
          "output_type": "execute_result",
          "data": {
            "text/plain": [
              "<matplotlib.axes._subplots.AxesSubplot at 0x7f3b640cee10>"
            ]
          },
          "metadata": {},
          "execution_count": 25
        },
        {
          "output_type": "display_data",
          "data": {
            "image/png": "[encoded data removed]",
            "text/plain": [
              "<Figure size 432x288 with 1 Axes>"
            ]
          },
          "metadata": {
            "needs_background": "light"
          }
        }
      ]
    },
    {
      "cell_type": "markdown",
      "metadata": {
        "id": "TqQ_GYpAGtsU"
      },
      "source": [
        "# KNN"
      ]
    },
    {
      "cell_type": "code",
      "metadata": {
        "colab": {
          "base_uri": "https://localhost:8080/",
          "height": 282
        },
        "id": "alekUhxqqagX",
        "outputId": "cbb96f96-0407-47a6-f9da-e5a4729a566b"
      },
      "source": [
        "### KNN\n",
        "knn_model = KNeighborsClassifier(weights='distance')\n",
        "knn_scores = cross_val_score(knn_model, trainX, trainY, scoring='accuracy', cv=cv)\n",
        "pd.DataFrame(knn_scores).boxplot()"
      ],
      "execution_count": 26,
      "outputs": [
        {
          "output_type": "execute_result",
          "data": {
            "text/plain": [
              "<matplotlib.axes._subplots.AxesSubplot at 0x7f3b5b7cbfd0>"
            ]
          },
          "metadata": {},
          "execution_count": 26
        },
        {
          "output_type": "display_data",
          "data": {
            "image/png": "[encoded data removed]",
            "text/plain": [
              "<Figure size 432x288 with 1 Axes>"
            ]
          },
          "metadata": {
            "needs_background": "light"
          }
        }
      ]
    },
    {
      "cell_type": "code",
      "metadata": {
        "colab": {
          "base_uri": "https://localhost:8080/",
          "height": 283
        },
        "id": "YrxmmVJW-rz3",
        "outputId": "498a6e7e-d8f6-4770-c277-78ef3de8d71e"
      },
      "source": [
        "### KNN\n",
        "knn_model = KNeighborsClassifier(weights='distance')\n",
        "knn_multiple_scores = cross_validate(knn_model, trainX, trainY, scoring=scoring, cv=cv)\n",
        "knn_complete_scores = pd.DataFrame(knn_multiple_scores)[ [\"test_recall\", \"test_accuracy\", \"test_f1_score\"]]\n",
        "\n",
        "knn_complete_scores.boxplot()"
      ],
      "execution_count": 27,
      "outputs": [
        {
          "output_type": "execute_result",
          "data": {
            "text/plain": [
              "<matplotlib.axes._subplots.AxesSubplot at 0x7f3b5b73b2d0>"
            ]
          },
          "metadata": {},
          "execution_count": 27
        },
        {
          "output_type": "display_data",
          "data": {
            "image/png": "[encoded data removed]",
            "text/plain": [
              "<Figure size 432x288 with 1 Axes>"
            ]
          },
          "metadata": {
            "needs_background": "light"
          }
        }
      ]
    },
    {
      "cell_type": "markdown",
      "metadata": {
        "id": "zhvMiMFWNSMV"
      },
      "source": [
        "# KNN no Weights"
      ]
    },
    {
      "cell_type": "code",
      "metadata": {
        "colab": {
          "base_uri": "https://localhost:8080/",
          "height": 282
        },
        "id": "Tos_IpPKLjDP",
        "outputId": "729f6287-2c29-4ea5-ab2a-64fef82f3132"
      },
      "source": [
        "### KNN no weights\n",
        "knn_model_no_weights = KNeighborsClassifier(weights='distance')\n",
        "knn_no_weigths_scores = cross_val_score(knn_model_no_weights, trainX, trainY, scoring='accuracy', cv=cv)\n",
        "pd.DataFrame(knn_no_weigths_scores).boxplot()"
      ],
      "execution_count": 28,
      "outputs": [
        {
          "output_type": "execute_result",
          "data": {
            "text/plain": [
              "<matplotlib.axes._subplots.AxesSubplot at 0x7f3b5b720d10>"
            ]
          },
          "metadata": {},
          "execution_count": 28
        },
        {
          "output_type": "display_data",
          "data": {
            "image/png": "[encoded data removed]",
            "text/plain": [
              "<Figure size 432x288 with 1 Axes>"
            ]
          },
          "metadata": {
            "needs_background": "light"
          }
        }
      ]
    },
    {
      "cell_type": "code",
      "metadata": {
        "id": "JDFL3tnkLrMe"
      },
      "source": [
        ""
      ],
      "execution_count": 28,
      "outputs": []
    },
    {
      "cell_type": "code",
      "metadata": {
        "colab": {
          "base_uri": "https://localhost:8080/",
          "height": 283
        },
        "id": "UQzKUVBnLrX4",
        "outputId": "5623be20-e6de-4ba3-8695-c922c9b02951"
      },
      "source": [
        "### KNN no weights\n",
        "knn_model_no_weights = KNeighborsClassifier(weights='distance')\n",
        "knn_no_weights_multiple_scores = cross_validate(knn_model_no_weights, trainX, trainY, scoring=scoring, cv=cv)\n",
        "knn_no_weights_complete_scores = pd.DataFrame(knn_no_weights_multiple_scores)[ [\"test_recall\", \"test_accuracy\", \"test_f1_score\"]]\n",
        "\n",
        "knn_no_weights_complete_scores.boxplot()"
      ],
      "execution_count": 29,
      "outputs": [
        {
          "output_type": "execute_result",
          "data": {
            "text/plain": [
              "<matplotlib.axes._subplots.AxesSubplot at 0x7f3b5b63e490>"
            ]
          },
          "metadata": {},
          "execution_count": 29
        },
        {
          "output_type": "display_data",
          "data": {
            "image/png": "[encoded data removed]",
            "text/plain": [
              "<Figure size 432x288 with 1 Axes>"
            ]
          },
          "metadata": {
            "needs_background": "light"
          }
        }
      ]
    },
    {
      "cell_type": "markdown",
      "metadata": {
        "id": "i6cQ053-Gxf-"
      },
      "source": [
        "# Resultados\n"
      ]
    },
    {
      "cell_type": "markdown",
      "metadata": {
        "id": "rREeLCd2G5LT"
      },
      "source": [
        "## Regresión Logística"
      ]
    },
    {
      "cell_type": "code",
      "metadata": {
        "colab": {
          "base_uri": "https://localhost:8080/"
        },
        "id": "iNZe6Q_Xnybi",
        "outputId": "fb204f71-b875-4fb0-eff1-2fcd16a0df58"
      },
      "source": [
        "lr_model = LogisticRegression(class_weight=\"balanced\").fit(trainX, trainY)\n",
        "lr_predictions = lr_model.predict(testX)\n",
        "print(accuracy_score(testY, lr_predictions))\n",
        "print(confusion_matrix(testY, lr_predictions))\n",
        "print(classification_report(testY, lr_predictions))"
      ],
      "execution_count": 30,
      "outputs": [
        {
          "output_type": "stream",
          "name": "stdout",
          "text": [
            "0.7580645161290323\n",
            "[[43  7]\n",
            " [ 8  4]]\n",
            "              precision    recall  f1-score   support\n",
            "\n",
            "           1       0.84      0.86      0.85        50\n",
            "           2       0.36      0.33      0.35        12\n",
            "\n",
            "    accuracy                           0.76        62\n",
            "   macro avg       0.60      0.60      0.60        62\n",
            "weighted avg       0.75      0.76      0.75        62\n",
            "\n"
          ]
        }
      ]
    },
    {
      "cell_type": "markdown",
      "metadata": {
        "id": "9FVKv3lDG8_d"
      },
      "source": [
        "## Regresión logística sin pesos"
      ]
    },
    {
      "cell_type": "code",
      "metadata": {
        "colab": {
          "base_uri": "https://localhost:8080/"
        },
        "id": "IoROSxsNGEkf",
        "outputId": "285f918b-9ddc-4363-e75a-608292dcfe45"
      },
      "source": [
        "lr_model_no_wieight = LogisticRegression().fit(trainX, trainY)\n",
        "lr_no_weights_predictions = lr_model_no_wieight.predict(testX)\n",
        "print(accuracy_score(testY, lr_no_weights_predictions))\n",
        "print(confusion_matrix(testY, lr_no_weights_predictions))\n",
        "print(classification_report(testY, lr_no_weights_predictions))"
      ],
      "execution_count": 31,
      "outputs": [
        {
          "output_type": "stream",
          "name": "stdout",
          "text": [
            "0.7903225806451613\n",
            "[[49  1]\n",
            " [12  0]]\n",
            "              precision    recall  f1-score   support\n",
            "\n",
            "           1       0.80      0.98      0.88        50\n",
            "           2       0.00      0.00      0.00        12\n",
            "\n",
            "    accuracy                           0.79        62\n",
            "   macro avg       0.40      0.49      0.44        62\n",
            "weighted avg       0.65      0.79      0.71        62\n",
            "\n"
          ]
        }
      ]
    },
    {
      "cell_type": "markdown",
      "metadata": {
        "id": "o7fXFnn3L7bd"
      },
      "source": [
        "## SVM"
      ]
    },
    {
      "cell_type": "code",
      "metadata": {
        "colab": {
          "base_uri": "https://localhost:8080/"
        },
        "id": "yzXI3-vmwwTx",
        "outputId": "f66344a9-c7e0-45b8-bb84-d8a5f3d3ee5e"
      },
      "source": [
        "svm = SVC().fit(trainX, trainY)\n",
        "svm_predictions = svm.predict(testX)\n",
        "print(accuracy_score(testY, svm_predictions))\n",
        "print(confusion_matrix(testY, svm_predictions))\n",
        "print(classification_report(testY, svm_predictions))"
      ],
      "execution_count": 32,
      "outputs": [
        {
          "output_type": "stream",
          "name": "stdout",
          "text": [
            "0.8064516129032258\n",
            "[[50  0]\n",
            " [12  0]]\n",
            "              precision    recall  f1-score   support\n",
            "\n",
            "           1       0.81      1.00      0.89        50\n",
            "           2       0.00      0.00      0.00        12\n",
            "\n",
            "    accuracy                           0.81        62\n",
            "   macro avg       0.40      0.50      0.45        62\n",
            "weighted avg       0.65      0.81      0.72        62\n",
            "\n"
          ]
        },
        {
          "output_type": "stream",
          "name": "stderr",
          "text": [
            "/usr/local/lib/python3.7/dist-packages/sklearn/metrics/_classification.py:1272: UndefinedMetricWarning: Precision and F-score are ill-defined and being set to 0.0 in labels with no predicted samples. Use `zero_division` parameter to control this behavior.\n",
            "  _warn_prf(average, modifier, msg_start, len(result))\n"
          ]
        }
      ]
    },
    {
      "cell_type": "markdown",
      "metadata": {
        "id": "WAkn6_HdL-VP"
      },
      "source": [
        "## MLP"
      ]
    },
    {
      "cell_type": "code",
      "metadata": {
        "colab": {
          "base_uri": "https://localhost:8080/"
        },
        "id": "AtyzlYL7qNkx",
        "outputId": "91240376-7dc0-4b4f-d0f5-945e23c35ee6"
      },
      "source": [
        "mlp_model = MLPClassifier().fit(trainX, trainY)\n",
        "mlp_predictions = mlp_model.predict(testX)\n",
        "print(accuracy_score(testY, mlp_predictions))\n",
        "print(confusion_matrix(testY, mlp_predictions))\n",
        "print(classification_report(testY, mlp_predictions))"
      ],
      "execution_count": 33,
      "outputs": [
        {
          "output_type": "stream",
          "name": "stdout",
          "text": [
            "0.8225806451612904\n",
            "[[48  2]\n",
            " [ 9  3]]\n",
            "              precision    recall  f1-score   support\n",
            "\n",
            "           1       0.84      0.96      0.90        50\n",
            "           2       0.60      0.25      0.35        12\n",
            "\n",
            "    accuracy                           0.82        62\n",
            "   macro avg       0.72      0.60      0.63        62\n",
            "weighted avg       0.80      0.82      0.79        62\n",
            "\n"
          ]
        }
      ]
    },
    {
      "cell_type": "markdown",
      "metadata": {
        "id": "WwKNdiW9MAZ_"
      },
      "source": [
        "## KNN"
      ]
    },
    {
      "cell_type": "code",
      "metadata": {
        "colab": {
          "base_uri": "https://localhost:8080/"
        },
        "id": "SXw8Yt80qe6M",
        "outputId": "f8d56483-d8bb-4b22-f387-13744c51c04c"
      },
      "source": [
        "knn = KNeighborsClassifier(weights='distance').fit(trainX, trainY)\n",
        "knn_predictions = knn.predict(testX)\n",
        "print(accuracy_score(testY, knn_predictions))\n",
        "print(confusion_matrix(testY, knn_predictions))\n",
        "print(classification_report(testY, knn_predictions))"
      ],
      "execution_count": 34,
      "outputs": [
        {
          "output_type": "stream",
          "name": "stdout",
          "text": [
            "0.6612903225806451\n",
            "[[37 13]\n",
            " [ 8  4]]\n",
            "              precision    recall  f1-score   support\n",
            "\n",
            "           1       0.82      0.74      0.78        50\n",
            "           2       0.24      0.33      0.28        12\n",
            "\n",
            "    accuracy                           0.66        62\n",
            "   macro avg       0.53      0.54      0.53        62\n",
            "weighted avg       0.71      0.66      0.68        62\n",
            "\n"
          ]
        }
      ]
    },
    {
      "cell_type": "markdown",
      "metadata": {
        "id": "okXvZCGDMDaJ"
      },
      "source": [
        "## KNN no weights"
      ]
    },
    {
      "cell_type": "code",
      "metadata": {
        "colab": {
          "base_uri": "https://localhost:8080/"
        },
        "id": "WSpQQaMnMO47",
        "outputId": "4e6c3cac-fd45-4b6f-c3ba-a6f7dcbba905"
      },
      "source": [
        "knn_no_weigths = KNeighborsClassifier().fit(trainX, trainY)\n",
        "knn_no_weigths_predictions = knn_no_weigths.predict(testX)\n",
        "print(accuracy_score(testY, knn_no_weigths_predictions))\n",
        "print(confusion_matrix(testY, knn_no_weigths_predictions))\n",
        "print(classification_report(testY, knn_no_weigths_predictions))"
      ],
      "execution_count": 35,
      "outputs": [
        {
          "output_type": "stream",
          "name": "stdout",
          "text": [
            "0.6774193548387096\n",
            "[[39 11]\n",
            " [ 9  3]]\n",
            "              precision    recall  f1-score   support\n",
            "\n",
            "           1       0.81      0.78      0.80        50\n",
            "           2       0.21      0.25      0.23        12\n",
            "\n",
            "    accuracy                           0.68        62\n",
            "   macro avg       0.51      0.52      0.51        62\n",
            "weighted avg       0.70      0.68      0.69        62\n",
            "\n"
          ]
        }
      ]
    },
    {
      "cell_type": "code",
      "metadata": {
        "colab": {
          "base_uri": "https://localhost:8080/",
          "height": 283
        },
        "id": "hFaKC092rJp0",
        "outputId": "f53f5d17-7318-4666-cfdd-c31e3ff0fb4b"
      },
      "source": [
        "\n",
        "colnames = [\"MLP\", 'KNN',\"KNN_NW\", 'LR', 'LR_NW', 'SVM']\n",
        "\n",
        "accuracy_scores = pd.DataFrame([mlp_scores, knn_scores, knn_no_weigths_scores, lr_scores,lr_no_w_scores, svm_scores]).transpose()\n",
        "accuracy_scores.columns = colnames\n",
        "accuracy_scores.head()\n",
        "accuracy_scores.boxplot()"
      ],
      "execution_count": 36,
      "outputs": [
        {
          "output_type": "execute_result",
          "data": {
            "text/plain": [
              "<matplotlib.axes._subplots.AxesSubplot at 0x7f3b5b534fd0>"
            ]
          },
          "metadata": {},
          "execution_count": 36
        },
        {
          "output_type": "display_data",
          "data": {
            "image/png": "[encoded data removed]",
            "text/plain": [
              "<Figure size 432x288 with 1 Axes>"
            ]
          },
          "metadata": {
            "needs_background": "light"
          }
        }
      ]
    },
    {
      "cell_type": "code",
      "metadata": {
        "id": "zaUdLPSQ_mxr",
        "colab": {
          "base_uri": "https://localhost:8080/",
          "height": 283
        },
        "outputId": "a9c4d273-fc7d-4100-cc05-3849ff23d023"
      },
      "source": [
        "fig, ax = plt.subplots()\n",
        "colnames = [\"MLP\", 'KNN', 'KNN_NW', 'LR','LR_NW', 'SVM']\n",
        "\n",
        "complete_accuracy_scores = pd.DataFrame([mlp_complete_scores[\"test_recall\"], knn_complete_scores[\"test_recall\"], \n",
        "                                knn_no_weights_complete_scores[\"test_recall\"], lr_complete_scores[\"test_recall\"], \n",
        "                                lr_no_w_complete_scores[\"test_recall\"],\n",
        "                                svm_complete_scores[\"test_recall\"]]).transpose()\n",
        "\n",
        "complete_accuracy_scores.head()\n",
        "complete_accuracy_scores.columns = colnames\n",
        "\n",
        "complete_accuracy_scores.boxplot()"
      ],
      "execution_count": 42,
      "outputs": [
        {
          "output_type": "execute_result",
          "data": {
            "text/plain": [
              "<matplotlib.axes._subplots.AxesSubplot at 0x7f3b5af172d0>"
            ]
          },
          "metadata": {},
          "execution_count": 42
        },
        {
          "output_type": "display_data",
          "data": {
            "image/png": "[encoded data removed]",
            "text/plain": [
              "<Figure size 432x288 with 1 Axes>"
            ]
          },
          "metadata": {
            "needs_background": "light"
          }
        }
      ]
    },
    {
      "cell_type": "markdown",
      "metadata": {
        "id": "92Z0AULlISNU"
      },
      "source": [
        "# Conclusiones\n",
        "\n",
        "Todos los modelos muestran buenos resultados de precisión, los que más constantes son y mejor pronostican el caso 2 (cuando las personas mueren en durante 5 años) el mejor modelo que tenemos en este caso es el KNN ya que pronostica muy bien los casos 1 y 2 y su recall es constante y bueno (muy cerca de 1). \n",
        "\n",
        "El KNN sin pesos es un poco menos eficiente que el KNN con pesos y los datos de precisión así como de recall tienen una rango más amplio de resultados. \n",
        "\n",
        "La regresión logística sería nuestro segundo mejor modelos, cerca del MLP. Lo bueno que tiene la regresió logística es que \n",
        "El peor modelos en este caso es el SVC, ya que no es bueno pronosticando la clase número 2. \n",
        "\n"
      ]
    }
  ]
}