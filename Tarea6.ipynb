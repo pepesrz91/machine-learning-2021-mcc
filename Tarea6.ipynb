{
  "nbformat": 4,
  "nbformat_minor": 0,
  "metadata": {
    "colab": {
      "name": "Tarea6.ipynb",
      "provenance": [],
      "collapsed_sections": [],
      "mount_file_id": "1TeP5UvGkv2JOelKz0MNFAjDYkYMRnecr",
      "authorship_tag": "ABX9TyNI5DpFPau5kOWsdxFJbRrI",
      "include_colab_link": true
    },
    "kernelspec": {
      "name": "python3",
      "display_name": "Python 3"
    },
    "language_info": {
      "name": "python"
    }
  },
  "cells": [
    {
      "cell_type": "markdown",
      "metadata": {
        "id": "view-in-github",
        "colab_type": "text"
      },
      "source": [
        "<a href=\"https://colab.research.google.com/github/pepesrz91/machine-learning-2021-mcc/blob/master/Tarea6.ipynb\" target=\"_parent\"><img src=\"https://colab.research.google.com/assets/colab-badge.svg\" alt=\"Open In Colab\"/></a>"
      ]
    },
    {
      "cell_type": "markdown",
      "metadata": {
        "id": "gr2a_aQDKljB"
      },
      "source": [
        "![imagen.png](https://i.imgur.com/d17FLgS.png)\n",
        "\n",
        "José Juan Suárez Ramos<br>\n",
        "A01224078<br>\n",
        "Tarea 6 "
      ]
    },
    {
      "cell_type": "code",
      "metadata": {
        "id": "2Q3tHBH-JmGH"
      },
      "source": [
        "import pandas as pd\n",
        "import numpy as np\n",
        "import scipy as sp\n",
        "from scipy import stats\n",
        "import matplotlib.pyplot as plt\n",
        "from sklearn import preprocessing\n",
        "from mlxtend.preprocessing import minmax_scaling\n",
        "from sklearn.preprocessing import StandardScaler\n",
        "from sklearn.metrics import accuracy_score\n",
        "from sklearn.metrics import confusion_matrix\n",
        "from sklearn.metrics import classification_report\n",
        "from sklearn.metrics import precision_recall_fscore_support as score\n",
        "from sklearn.model_selection import cross_validate\n",
        "from sklearn.metrics import make_scorer, accuracy_score, precision_score, recall_score, f1_score\n",
        "\n",
        "\n",
        "import seaborn as sns\n",
        "from sklearn.model_selection import RepeatedStratifiedKFold\n",
        "from sklearn.neighbors import KNeighborsClassifier\n",
        "from sklearn.neural_network import MLPClassifier\n",
        "from sklearn.svm import SVC"
      ],
      "execution_count": 1,
      "outputs": []
    },
    {
      "cell_type": "code",
      "metadata": {
        "id": "zncsj7v4Eyj_"
      },
      "source": [
        "# Cambiamos nombres de columnas por algo más concreto\n",
        "# PAO = Patients age at operation\n",
        "# YPO = Yar of patient's Operation\n",
        "# NPAN = Number of Positive Auxiliary Nodes\n",
        "# Survival { 1: Patient survived 5 years or longer. 2: Patient died within 5 years}\n",
        "colnames = [\"PAO\", \"YPO\", \"NPAN\", \"Survival\"]"
      ],
      "execution_count": 2,
      "outputs": []
    },
    {
      "cell_type": "code",
      "metadata": {
        "colab": {
          "base_uri": "https://localhost:8080/"
        },
        "id": "UyRYUfGBJjGV",
        "outputId": "9d59704f-3887-4691-8607-08703f3e2791"
      },
      "source": [
        "\n",
        "data =  pd.read_csv('/content/drive/MyDrive/Presentaciones/haberman.data', sep=\",\", names=colnames)\n",
        "print(data)"
      ],
      "execution_count": 3,
      "outputs": [
        {
          "output_type": "stream",
          "name": "stdout",
          "text": [
            "     PAO  YPO  NPAN  Survival\n",
            "0     30   64     1         1\n",
            "1     30   62     3         1\n",
            "2     30   65     0         1\n",
            "3     31   59     2         1\n",
            "4     31   65     4         1\n",
            "..   ...  ...   ...       ...\n",
            "301   75   62     1         1\n",
            "302   76   67     0         1\n",
            "303   77   65     3         1\n",
            "304   78   65     1         2\n",
            "305   83   58     2         2\n",
            "\n",
            "[306 rows x 4 columns]\n"
          ]
        }
      ]
    },
    {
      "cell_type": "code",
      "metadata": {
        "colab": {
          "base_uri": "https://localhost:8080/",
          "height": 204
        },
        "id": "3RBACIiUJkbU",
        "outputId": "536a1ec6-893e-4a93-fed7-e0bac648a743"
      },
      "source": [
        "data.head()"
      ],
      "execution_count": 4,
      "outputs": [
        {
          "output_type": "execute_result",
          "data": {
            "text/html": [
              "<div>\n",
              "<style scoped>\n",
              "    .dataframe tbody tr th:only-of-type {\n",
              "        vertical-align: middle;\n",
              "    }\n",
              "\n",
              "    .dataframe tbody tr th {\n",
              "        vertical-align: top;\n",
              "    }\n",
              "\n",
              "    .dataframe thead th {\n",
              "        text-align: right;\n",
              "    }\n",
              "</style>\n",
              "<table border=\"1\" class=\"dataframe\">\n",
              "  <thead>\n",
              "    <tr style=\"text-align: right;\">\n",
              "      <th></th>\n",
              "      <th>PAO</th>\n",
              "      <th>YPO</th>\n",
              "      <th>NPAN</th>\n",
              "      <th>Survival</th>\n",
              "    </tr>\n",
              "  </thead>\n",
              "  <tbody>\n",
              "    <tr>\n",
              "      <th>0</th>\n",
              "      <td>30</td>\n",
              "      <td>64</td>\n",
              "      <td>1</td>\n",
              "      <td>1</td>\n",
              "    </tr>\n",
              "    <tr>\n",
              "      <th>1</th>\n",
              "      <td>30</td>\n",
              "      <td>62</td>\n",
              "      <td>3</td>\n",
              "      <td>1</td>\n",
              "    </tr>\n",
              "    <tr>\n",
              "      <th>2</th>\n",
              "      <td>30</td>\n",
              "      <td>65</td>\n",
              "      <td>0</td>\n",
              "      <td>1</td>\n",
              "    </tr>\n",
              "    <tr>\n",
              "      <th>3</th>\n",
              "      <td>31</td>\n",
              "      <td>59</td>\n",
              "      <td>2</td>\n",
              "      <td>1</td>\n",
              "    </tr>\n",
              "    <tr>\n",
              "      <th>4</th>\n",
              "      <td>31</td>\n",
              "      <td>65</td>\n",
              "      <td>4</td>\n",
              "      <td>1</td>\n",
              "    </tr>\n",
              "  </tbody>\n",
              "</table>\n",
              "</div>"
            ],
            "text/plain": [
              "   PAO  YPO  NPAN  Survival\n",
              "0   30   64     1         1\n",
              "1   30   62     3         1\n",
              "2   30   65     0         1\n",
              "3   31   59     2         1\n",
              "4   31   65     4         1"
            ]
          },
          "metadata": {},
          "execution_count": 4
        }
      ]
    },
    {
      "cell_type": "code",
      "metadata": {
        "colab": {
          "base_uri": "https://localhost:8080/"
        },
        "id": "aQee8duCJq0d",
        "outputId": "f514b684-11be-46b7-95a3-35cdd3ab67fa"
      },
      "source": [
        "print(data.dtypes)"
      ],
      "execution_count": 5,
      "outputs": [
        {
          "output_type": "stream",
          "name": "stdout",
          "text": [
            "PAO         int64\n",
            "YPO         int64\n",
            "NPAN        int64\n",
            "Survival    int64\n",
            "dtype: object\n"
          ]
        }
      ]
    },
    {
      "cell_type": "code",
      "metadata": {
        "colab": {
          "base_uri": "https://localhost:8080/"
        },
        "id": "hr58atQnJt1S",
        "outputId": "38246f79-b133-40ae-904f-1ec384a606b0"
      },
      "source": [
        "print(data.isna().sum())"
      ],
      "execution_count": 6,
      "outputs": [
        {
          "output_type": "stream",
          "name": "stdout",
          "text": [
            "PAO         0\n",
            "YPO         0\n",
            "NPAN        0\n",
            "Survival    0\n",
            "dtype: int64\n"
          ]
        }
      ]
    },
    {
      "cell_type": "code",
      "metadata": {
        "colab": {
          "base_uri": "https://localhost:8080/",
          "height": 316
        },
        "id": "EMmBNuJyKhOk",
        "outputId": "49eebc6f-2a12-4ca2-e6f2-66fa3e71e90d"
      },
      "source": [
        "plt.hist(data[\"PAO\"])"
      ],
      "execution_count": 7,
      "outputs": [
        {
          "output_type": "execute_result",
          "data": {
            "text/plain": [
              "(array([16., 27., 46., 53., 55., 41., 41., 18.,  7.,  2.]),\n",
              " array([30. , 35.3, 40.6, 45.9, 51.2, 56.5, 61.8, 67.1, 72.4, 77.7, 83. ]),\n",
              " <a list of 10 Patch objects>)"
            ]
          },
          "metadata": {},
          "execution_count": 7
        },
        {
          "output_type": "display_data",
          "data": {
            "image/png": "[encoded data removed]",
            "text/plain": [
              "<Figure size 432x288 with 1 Axes>"
            ]
          },
          "metadata": {
            "needs_background": "light"
          }
        }
      ]
    },
    {
      "cell_type": "code",
      "metadata": {
        "colab": {
          "base_uri": "https://localhost:8080/",
          "height": 316
        },
        "id": "ybnSSsv8Krus",
        "outputId": "9ce5795d-cc36-4dc3-822d-8e3a391b3726"
      },
      "source": [
        "plt.hist(data[\"YPO\"])"
      ],
      "execution_count": 8,
      "outputs": [
        {
          "output_type": "execute_result",
          "data": {
            "text/plain": [
              "(array([63., 28., 26., 23., 30., 31., 28., 28., 25., 24.]),\n",
              " array([58. , 59.1, 60.2, 61.3, 62.4, 63.5, 64.6, 65.7, 66.8, 67.9, 69. ]),\n",
              " <a list of 10 Patch objects>)"
            ]
          },
          "metadata": {},
          "execution_count": 8
        },
        {
          "output_type": "display_data",
          "data": {
            "image/png": "[encoded data removed]",
            "text/plain": [
              "<Figure size 432x288 with 1 Axes>"
            ]
          },
          "metadata": {
            "needs_background": "light"
          }
        }
      ]
    },
    {
      "cell_type": "code",
      "metadata": {
        "colab": {
          "base_uri": "https://localhost:8080/",
          "height": 316
        },
        "id": "Z490Fv_hKzIT",
        "outputId": "0e72de20-55bb-48c1-b500-8fabd43e9c9e"
      },
      "source": [
        "plt.hist(data[\"NPAN\"])"
      ],
      "execution_count": 9,
      "outputs": [
        {
          "output_type": "execute_result",
          "data": {
            "text/plain": [
              "(array([236.,  30.,  18.,   8.,   9.,   2.,   1.,   0.,   1.,   1.]),\n",
              " array([ 0. ,  5.2, 10.4, 15.6, 20.8, 26. , 31.2, 36.4, 41.6, 46.8, 52. ]),\n",
              " <a list of 10 Patch objects>)"
            ]
          },
          "metadata": {},
          "execution_count": 9
        },
        {
          "output_type": "display_data",
          "data": {
            "image/png": "[encoded data removed]",
            "text/plain": [
              "<Figure size 432x288 with 1 Axes>"
            ]
          },
          "metadata": {
            "needs_background": "light"
          }
        }
      ]
    },
    {
      "cell_type": "code",
      "metadata": {
        "id": "NHNAQAxcLM_D"
      },
      "source": [
        "min_max_scaler = preprocessing.MinMaxScaler()"
      ],
      "execution_count": 10,
      "outputs": []
    },
    {
      "cell_type": "markdown",
      "metadata": {
        "id": "PASwt_gSNUoC"
      },
      "source": [
        ""
      ]
    },
    {
      "cell_type": "code",
      "metadata": {
        "id": "PFrh9LygLRMo"
      },
      "source": [
        "\n",
        "# data[\"YPO\"] = minmax_scaling(data[\"YPO\"], columns=[0])"
      ],
      "execution_count": 11,
      "outputs": []
    },
    {
      "cell_type": "code",
      "metadata": {
        "colab": {
          "base_uri": "https://localhost:8080/",
          "height": 316
        },
        "id": "zVM6Zm9iNr7e",
        "outputId": "eb4e6154-7178-4d51-895f-28ef488d27a9"
      },
      "source": [
        "plt.hist(data[\"YPO\"])"
      ],
      "execution_count": 12,
      "outputs": [
        {
          "output_type": "execute_result",
          "data": {
            "text/plain": [
              "(array([63., 28., 26., 23., 30., 31., 28., 28., 25., 24.]),\n",
              " array([58. , 59.1, 60.2, 61.3, 62.4, 63.5, 64.6, 65.7, 66.8, 67.9, 69. ]),\n",
              " <a list of 10 Patch objects>)"
            ]
          },
          "metadata": {},
          "execution_count": 12
        },
        {
          "output_type": "display_data",
          "data": {
            "image/png": "[encoded data removed]",
            "text/plain": [
              "<Figure size 432x288 with 1 Axes>"
            ]
          },
          "metadata": {
            "needs_background": "light"
          }
        }
      ]
    },
    {
      "cell_type": "code",
      "metadata": {
        "id": "kOtmokzkOnwp"
      },
      "source": [
        "# data[\"NPAN\"] = minmax_scaling(data[\"NPAN\"], columns=[0])"
      ],
      "execution_count": 13,
      "outputs": []
    },
    {
      "cell_type": "code",
      "metadata": {
        "colab": {
          "base_uri": "https://localhost:8080/",
          "height": 316
        },
        "id": "gJkkq3aJPjcO",
        "outputId": "56a27c19-d984-4034-f4d1-cfde303dd549"
      },
      "source": [
        "plt.hist(data[\"NPAN\"])"
      ],
      "execution_count": 14,
      "outputs": [
        {
          "output_type": "execute_result",
          "data": {
            "text/plain": [
              "(array([236.,  30.,  18.,   8.,   9.,   2.,   1.,   0.,   1.,   1.]),\n",
              " array([ 0. ,  5.2, 10.4, 15.6, 20.8, 26. , 31.2, 36.4, 41.6, 46.8, 52. ]),\n",
              " <a list of 10 Patch objects>)"
            ]
          },
          "metadata": {},
          "execution_count": 14
        },
        {
          "output_type": "display_data",
          "data": {
            "image/png": "[encoded data removed]",
            "text/plain": [
              "<Figure size 432x288 with 1 Axes>"
            ]
          },
          "metadata": {
            "needs_background": "light"
          }
        }
      ]
    },
    {
      "cell_type": "code",
      "metadata": {
        "colab": {
          "base_uri": "https://localhost:8080/",
          "height": 286
        },
        "id": "DKzZqingPrGV",
        "outputId": "b9ed3f01-80e9-4ec9-e501-40b2bd4a8050"
      },
      "source": [
        "corr = data.corr()\n",
        "sns.heatmap(corr, \n",
        "        xticklabels=corr.columns,\n",
        "        yticklabels=corr.columns)"
      ],
      "execution_count": 15,
      "outputs": [
        {
          "output_type": "execute_result",
          "data": {
            "text/plain": [
              "<matplotlib.axes._subplots.AxesSubplot at 0x7f8dec979650>"
            ]
          },
          "metadata": {},
          "execution_count": 15
        },
        {
          "output_type": "display_data",
          "data": {
            "image/png": "[encoded data removed]",
            "text/plain": [
              "<Figure size 432x288 with 2 Axes>"
            ]
          },
          "metadata": {
            "needs_background": "light"
          }
        }
      ]
    },
    {
      "cell_type": "code",
      "metadata": {
        "colab": {
          "base_uri": "https://localhost:8080/"
        },
        "id": "TWuV_L9mPzq4",
        "outputId": "03b52b69-8a25-4321-a597-49516e846cf2"
      },
      "source": [
        "import statsmodels.api as sm\n",
        "from sklearn.model_selection import KFold\n",
        "import sklearn.model_selection as model_selection\n",
        "from sklearn.linear_model import LinearRegression\n",
        "from sklearn.linear_model import LogisticRegression\n",
        "from sklearn.model_selection import cross_val_score"
      ],
      "execution_count": 16,
      "outputs": [
        {
          "output_type": "stream",
          "name": "stderr",
          "text": [
            "/usr/local/lib/python3.7/dist-packages/statsmodels/tools/_testing.py:19: FutureWarning: pandas.util.testing is deprecated. Use the functions in the public API at pandas.testing instead.\n",
            "  import pandas.util.testing as tm\n"
          ]
        }
      ]
    },
    {
      "cell_type": "markdown",
      "metadata": {
        "id": "47wXn78rRptC"
      },
      "source": [
        "# Cross validation configuration"
      ]
    },
    {
      "cell_type": "code",
      "metadata": {
        "id": "ClEtBUAJQUd0"
      },
      "source": [
        "scoring = {'accuracy' : make_scorer(accuracy_score), \n",
        "           'precision' : make_scorer(precision_score),\n",
        "           'recall' : make_scorer(recall_score), \n",
        "           'f1_score' : make_scorer(f1_score)}\n",
        "\n",
        "cv = RepeatedStratifiedKFold(n_splits=5, n_repeats=5)\n",
        "Y = data[\"Survival\"]\n",
        "X = data\n",
        "X.drop(\"Survival\", inplace=True, axis=1)\n",
        "\n",
        "trainX, testX, trainY, testY = model_selection.train_test_split(X, Y, train_size=0.8, shuffle=True,  random_state=None)"
      ],
      "execution_count": 17,
      "outputs": []
    },
    {
      "cell_type": "markdown",
      "metadata": {
        "id": "ob8tSixJGaZm"
      },
      "source": [
        "# Logistic Regression"
      ]
    },
    {
      "cell_type": "code",
      "metadata": {
        "colab": {
          "base_uri": "https://localhost:8080/",
          "height": 286
        },
        "id": "Dh5qzVGHRzqk",
        "outputId": "00c94e65-7809-4671-e787-acbdbbc9aa65"
      },
      "source": [
        "# LR\n",
        "\n",
        "lr_model = LogisticRegression(class_weight=\"balanced\")\n",
        "lr_scores = cross_val_score(lr_model, trainX, trainY, scoring='accuracy', cv=cv)\n",
        "pd.DataFrame(lr_scores).boxplot()\n"
      ],
      "execution_count": 18,
      "outputs": [
        {
          "output_type": "execute_result",
          "data": {
            "text/plain": [
              "<matplotlib.axes._subplots.AxesSubplot at 0x7f8ddcf52f10>"
            ]
          },
          "metadata": {},
          "execution_count": 18
        },
        {
          "output_type": "display_data",
          "data": {
            "image/png": "[encoded data removed]",
            "text/plain": [
              "<Figure size 432x288 with 1 Axes>"
            ]
          },
          "metadata": {
            "needs_background": "light"
          }
        }
      ]
    },
    {
      "cell_type": "code",
      "metadata": {
        "colab": {
          "base_uri": "https://localhost:8080/",
          "height": 283
        },
        "id": "b1p1cAci9-Al",
        "outputId": "50b8e947-6d7b-46d9-b05c-2c382b0ffe05"
      },
      "source": [
        "### LR \n",
        "lr_model = LogisticRegression(class_weight=\"balanced\")\n",
        "\n",
        "lr_multiple_scores = cross_validate(lr_model, trainX, trainY, scoring=scoring, cv=cv)\n",
        "lr_complete_scores = pd.DataFrame(lr_multiple_scores)[ [\"test_recall\", \"test_accuracy\", \"test_f1_score\"]]\n",
        "\n",
        "lr_complete_scores.boxplot()"
      ],
      "execution_count": 19,
      "outputs": [
        {
          "output_type": "execute_result",
          "data": {
            "text/plain": [
              "<matplotlib.axes._subplots.AxesSubplot at 0x7f8ddcfdea90>"
            ]
          },
          "metadata": {},
          "execution_count": 19
        },
        {
          "output_type": "display_data",
          "data": {
            "image/png": "[encoded data removed]",
            "text/plain": [
              "<Figure size 432x288 with 1 Axes>"
            ]
          },
          "metadata": {
            "needs_background": "light"
          }
        }
      ]
    },
    {
      "cell_type": "markdown",
      "metadata": {
        "id": "T3BTANs4Gexd"
      },
      "source": [
        "# Logistic Regression Without Weights"
      ]
    },
    {
      "cell_type": "code",
      "metadata": {
        "colab": {
          "base_uri": "https://localhost:8080/",
          "height": 282
        },
        "id": "QDdrNDnNEznI",
        "outputId": "2402e96d-f8f8-4b39-9781-c1fc65be69ad"
      },
      "source": [
        "# LR no weigths\n",
        "lr_model_no_w = LogisticRegression()\n",
        "lr_no_w_scores = cross_val_score(lr_model_no_w, trainX, trainY, scoring='accuracy', cv=cv)\n",
        "pd.DataFrame(lr_no_w_scores).boxplot()\n"
      ],
      "execution_count": 20,
      "outputs": [
        {
          "output_type": "execute_result",
          "data": {
            "text/plain": [
              "<matplotlib.axes._subplots.AxesSubplot at 0x7f8ddce0e050>"
            ]
          },
          "metadata": {},
          "execution_count": 20
        },
        {
          "output_type": "display_data",
          "data": {
            "image/png": "[encoded data removed]",
            "text/plain": [
              "<Figure size 432x288 with 1 Axes>"
            ]
          },
          "metadata": {
            "needs_background": "light"
          }
        }
      ]
    },
    {
      "cell_type": "code",
      "metadata": {
        "colab": {
          "base_uri": "https://localhost:8080/",
          "height": 285
        },
        "id": "mwsIYpdzE53M",
        "outputId": "8621146a-2192-413c-e37d-121a3921aa7d"
      },
      "source": [
        "### LR no weights\n",
        "lr_model_no_w = LogisticRegression(class_weight=\"balanced\")\n",
        "\n",
        "lr_no_weights_multiple_scores = cross_validate(lr_model_no_w, trainX, trainY, scoring=scoring, cv=cv)\n",
        "lr_no_w_complete_scores = pd.DataFrame(lr_no_weights_multiple_scores)[ [\"test_recall\", \"test_accuracy\", \"test_f1_score\"]]\n",
        "\n",
        "lr_no_w_complete_scores.boxplot()"
      ],
      "execution_count": 21,
      "outputs": [
        {
          "output_type": "execute_result",
          "data": {
            "text/plain": [
              "<matplotlib.axes._subplots.AxesSubplot at 0x7f8ddcd8de90>"
            ]
          },
          "metadata": {},
          "execution_count": 21
        },
        {
          "output_type": "display_data",
          "data": {
            "image/png": "[encoded data removed]",
            "text/plain": [
              "<Figure size 432x288 with 1 Axes>"
            ]
          },
          "metadata": {
            "needs_background": "light"
          }
        }
      ]
    },
    {
      "cell_type": "markdown",
      "metadata": {
        "id": "G_js6oxIGkqu"
      },
      "source": [
        "# SVM"
      ]
    },
    {
      "cell_type": "code",
      "metadata": {
        "colab": {
          "base_uri": "https://localhost:8080/",
          "height": 282
        },
        "id": "3sg3SIWDtAuH",
        "outputId": "3ccb59f6-de64-4d6a-9b2e-f6f078dc21d3"
      },
      "source": [
        "### SVM\n",
        "svm_model = SVC()\n",
        "\n",
        "svm_scores = cross_val_score(svm_model, trainX, trainY, scoring='accuracy', cv=cv)\n",
        "pd.DataFrame(svm_scores).boxplot()"
      ],
      "execution_count": 22,
      "outputs": [
        {
          "output_type": "execute_result",
          "data": {
            "text/plain": [
              "<matplotlib.axes._subplots.AxesSubplot at 0x7f8ddcd2d810>"
            ]
          },
          "metadata": {},
          "execution_count": 22
        },
        {
          "output_type": "display_data",
          "data": {
            "image/png": "[encoded data removed]",
            "text/plain": [
              "<Figure size 432x288 with 1 Axes>"
            ]
          },
          "metadata": {
            "needs_background": "light"
          }
        }
      ]
    },
    {
      "cell_type": "code",
      "metadata": {
        "id": "-YLoyq1r7O-A"
      },
      "source": [
        ""
      ],
      "execution_count": 22,
      "outputs": []
    },
    {
      "cell_type": "code",
      "metadata": {
        "colab": {
          "base_uri": "https://localhost:8080/",
          "height": 283
        },
        "id": "Y8i3rRvc7PFF",
        "outputId": "fdfc36fb-c94d-4fc9-8353-4715b087a527"
      },
      "source": [
        "### SVM\n",
        "svm_model = SVC()\n",
        "\n",
        "svm_multiple_scores = cross_validate(svm_model, trainX, trainY, scoring=scoring, cv=cv)\n",
        "svm_complete_scores = pd.DataFrame(svm_multiple_scores)[ [\"test_recall\", \"test_accuracy\", \"test_f1_score\"]]\n",
        "\n",
        "svm_complete_scores.boxplot()"
      ],
      "execution_count": 23,
      "outputs": [
        {
          "output_type": "execute_result",
          "data": {
            "text/plain": [
              "<matplotlib.axes._subplots.AxesSubplot at 0x7f8ddce59650>"
            ]
          },
          "metadata": {},
          "execution_count": 23
        },
        {
          "output_type": "display_data",
          "data": {
            "image/png": "[encoded data removed]",
            "text/plain": [
              "<Figure size 432x288 with 1 Axes>"
            ]
          },
          "metadata": {
            "needs_background": "light"
          }
        }
      ]
    },
    {
      "cell_type": "markdown",
      "metadata": {
        "id": "ObcHesCfGolh"
      },
      "source": [
        "# MLP "
      ]
    },
    {
      "cell_type": "code",
      "metadata": {
        "colab": {
          "base_uri": "https://localhost:8080/",
          "height": 608
        },
        "id": "7RdLk1_SwqU_",
        "outputId": "28a665a1-903e-40de-9111-7424991bb9be"
      },
      "source": [
        "### MLP\n",
        "mlp_model = MLPClassifier()\n",
        "mlp_scores = cross_val_score(mlp_model, trainX, trainY, scoring='accuracy', cv=cv)\n",
        "pd.DataFrame(mlp_scores).boxplot()"
      ],
      "execution_count": 24,
      "outputs": [
        {
          "output_type": "stream",
          "name": "stderr",
          "text": [
            "/usr/local/lib/python3.7/dist-packages/sklearn/neural_network/_multilayer_perceptron.py:571: ConvergenceWarning: Stochastic Optimizer: Maximum iterations (200) reached and the optimization hasn't converged yet.\n",
            "  % self.max_iter, ConvergenceWarning)\n",
            "/usr/local/lib/python3.7/dist-packages/sklearn/neural_network/_multilayer_perceptron.py:571: ConvergenceWarning: Stochastic Optimizer: Maximum iterations (200) reached and the optimization hasn't converged yet.\n",
            "  % self.max_iter, ConvergenceWarning)\n",
            "/usr/local/lib/python3.7/dist-packages/sklearn/neural_network/_multilayer_perceptron.py:571: ConvergenceWarning: Stochastic Optimizer: Maximum iterations (200) reached and the optimization hasn't converged yet.\n",
            "  % self.max_iter, ConvergenceWarning)\n",
            "/usr/local/lib/python3.7/dist-packages/sklearn/neural_network/_multilayer_perceptron.py:571: ConvergenceWarning: Stochastic Optimizer: Maximum iterations (200) reached and the optimization hasn't converged yet.\n",
            "  % self.max_iter, ConvergenceWarning)\n",
            "/usr/local/lib/python3.7/dist-packages/sklearn/neural_network/_multilayer_perceptron.py:571: ConvergenceWarning: Stochastic Optimizer: Maximum iterations (200) reached and the optimization hasn't converged yet.\n",
            "  % self.max_iter, ConvergenceWarning)\n",
            "/usr/local/lib/python3.7/dist-packages/sklearn/neural_network/_multilayer_perceptron.py:571: ConvergenceWarning: Stochastic Optimizer: Maximum iterations (200) reached and the optimization hasn't converged yet.\n",
            "  % self.max_iter, ConvergenceWarning)\n",
            "/usr/local/lib/python3.7/dist-packages/sklearn/neural_network/_multilayer_perceptron.py:571: ConvergenceWarning: Stochastic Optimizer: Maximum iterations (200) reached and the optimization hasn't converged yet.\n",
            "  % self.max_iter, ConvergenceWarning)\n",
            "/usr/local/lib/python3.7/dist-packages/sklearn/neural_network/_multilayer_perceptron.py:571: ConvergenceWarning: Stochastic Optimizer: Maximum iterations (200) reached and the optimization hasn't converged yet.\n",
            "  % self.max_iter, ConvergenceWarning)\n",
            "/usr/local/lib/python3.7/dist-packages/sklearn/neural_network/_multilayer_perceptron.py:571: ConvergenceWarning: Stochastic Optimizer: Maximum iterations (200) reached and the optimization hasn't converged yet.\n",
            "  % self.max_iter, ConvergenceWarning)\n"
          ]
        },
        {
          "output_type": "execute_result",
          "data": {
            "text/plain": [
              "<matplotlib.axes._subplots.AxesSubplot at 0x7f8ddcbbd410>"
            ]
          },
          "metadata": {},
          "execution_count": 24
        },
        {
          "output_type": "display_data",
          "data": {
            "image/png": "[encoded data removed]",
            "text/plain": [
              "<Figure size 432x288 with 1 Axes>"
            ]
          },
          "metadata": {
            "needs_background": "light"
          }
        }
      ]
    },
    {
      "cell_type": "code",
      "metadata": {
        "colab": {
          "base_uri": "https://localhost:8080/",
          "height": 541
        },
        "id": "lu6HBvEZ-TS0",
        "outputId": "6372a7fc-54f9-4d36-b0fd-65c55fdde9fc"
      },
      "source": [
        "### MLP\n",
        "mlp_model = MLPClassifier()\n",
        "\n",
        "mlp_multiple_scores = cross_validate(mlp_model, trainX, trainY, scoring=scoring, cv=cv)\n",
        "mlp_complete_scores = pd.DataFrame(mlp_multiple_scores)[ [\"test_recall\", \"test_accuracy\", \"test_f1_score\"]]\n",
        "\n",
        "mlp_complete_scores.boxplot()"
      ],
      "execution_count": 25,
      "outputs": [
        {
          "output_type": "stream",
          "name": "stderr",
          "text": [
            "/usr/local/lib/python3.7/dist-packages/sklearn/neural_network/_multilayer_perceptron.py:571: ConvergenceWarning: Stochastic Optimizer: Maximum iterations (200) reached and the optimization hasn't converged yet.\n",
            "  % self.max_iter, ConvergenceWarning)\n",
            "/usr/local/lib/python3.7/dist-packages/sklearn/neural_network/_multilayer_perceptron.py:571: ConvergenceWarning: Stochastic Optimizer: Maximum iterations (200) reached and the optimization hasn't converged yet.\n",
            "  % self.max_iter, ConvergenceWarning)\n",
            "/usr/local/lib/python3.7/dist-packages/sklearn/neural_network/_multilayer_perceptron.py:571: ConvergenceWarning: Stochastic Optimizer: Maximum iterations (200) reached and the optimization hasn't converged yet.\n",
            "  % self.max_iter, ConvergenceWarning)\n",
            "/usr/local/lib/python3.7/dist-packages/sklearn/neural_network/_multilayer_perceptron.py:571: ConvergenceWarning: Stochastic Optimizer: Maximum iterations (200) reached and the optimization hasn't converged yet.\n",
            "  % self.max_iter, ConvergenceWarning)\n",
            "/usr/local/lib/python3.7/dist-packages/sklearn/neural_network/_multilayer_perceptron.py:571: ConvergenceWarning: Stochastic Optimizer: Maximum iterations (200) reached and the optimization hasn't converged yet.\n",
            "  % self.max_iter, ConvergenceWarning)\n",
            "/usr/local/lib/python3.7/dist-packages/sklearn/neural_network/_multilayer_perceptron.py:571: ConvergenceWarning: Stochastic Optimizer: Maximum iterations (200) reached and the optimization hasn't converged yet.\n",
            "  % self.max_iter, ConvergenceWarning)\n",
            "/usr/local/lib/python3.7/dist-packages/sklearn/neural_network/_multilayer_perceptron.py:571: ConvergenceWarning: Stochastic Optimizer: Maximum iterations (200) reached and the optimization hasn't converged yet.\n",
            "  % self.max_iter, ConvergenceWarning)\n"
          ]
        },
        {
          "output_type": "execute_result",
          "data": {
            "text/plain": [
              "<matplotlib.axes._subplots.AxesSubplot at 0x7f8dd4355510>"
            ]
          },
          "metadata": {},
          "execution_count": 25
        },
        {
          "output_type": "display_data",
          "data": {
            "image/png": "[encoded data removed]",
            "text/plain": [
              "<Figure size 432x288 with 1 Axes>"
            ]
          },
          "metadata": {
            "needs_background": "light"
          }
        }
      ]
    },
    {
      "cell_type": "markdown",
      "metadata": {
        "id": "TqQ_GYpAGtsU"
      },
      "source": [
        "# KNN"
      ]
    },
    {
      "cell_type": "code",
      "metadata": {
        "colab": {
          "base_uri": "https://localhost:8080/",
          "height": 282
        },
        "id": "alekUhxqqagX",
        "outputId": "e87a14aa-b091-4143-d297-c49d9cfcb53e"
      },
      "source": [
        "### KNN\n",
        "knn_model = KNeighborsClassifier(weights='distance')\n",
        "knn_scores = cross_val_score(knn_model, trainX, trainY, scoring='accuracy', cv=cv)\n",
        "pd.DataFrame(knn_scores).boxplot()"
      ],
      "execution_count": 26,
      "outputs": [
        {
          "output_type": "execute_result",
          "data": {
            "text/plain": [
              "<matplotlib.axes._subplots.AxesSubplot at 0x7f8dd428bc50>"
            ]
          },
          "metadata": {},
          "execution_count": 26
        },
        {
          "output_type": "display_data",
          "data": {
            "image/png": "[encoded data removed]",
            "text/plain": [
              "<Figure size 432x288 with 1 Axes>"
            ]
          },
          "metadata": {
            "needs_background": "light"
          }
        }
      ]
    },
    {
      "cell_type": "code",
      "metadata": {
        "colab": {
          "base_uri": "https://localhost:8080/",
          "height": 283
        },
        "id": "YrxmmVJW-rz3",
        "outputId": "03e7d532-f5d1-4ccb-f01d-3352b9a82b99"
      },
      "source": [
        "### KNN\n",
        "knn_model = KNeighborsClassifier(weights='distance')\n",
        "knn_multiple_scores = cross_validate(knn_model, trainX, trainY, scoring=scoring, cv=cv)\n",
        "knn_complete_scores = pd.DataFrame(knn_multiple_scores)[ [\"test_recall\", \"test_accuracy\", \"test_f1_score\"]]\n",
        "\n",
        "knn_complete_scores.boxplot()"
      ],
      "execution_count": 27,
      "outputs": [
        {
          "output_type": "execute_result",
          "data": {
            "text/plain": [
              "<matplotlib.axes._subplots.AxesSubplot at 0x7f8dd4212dd0>"
            ]
          },
          "metadata": {},
          "execution_count": 27
        },
        {
          "output_type": "display_data",
          "data": {
            "image/png": "[encoded data removed]",
            "text/plain": [
              "<Figure size 432x288 with 1 Axes>"
            ]
          },
          "metadata": {
            "needs_background": "light"
          }
        }
      ]
    },
    {
      "cell_type": "markdown",
      "metadata": {
        "id": "zhvMiMFWNSMV"
      },
      "source": [
        "# KNN no Weights"
      ]
    },
    {
      "cell_type": "code",
      "metadata": {
        "colab": {
          "base_uri": "https://localhost:8080/",
          "height": 282
        },
        "id": "Tos_IpPKLjDP",
        "outputId": "31997450-78ec-4954-9d13-326cfa269b25"
      },
      "source": [
        "### KNN no weights\n",
        "knn_model_no_weights = KNeighborsClassifier(weights='distance')\n",
        "knn_no_weigths_scores = cross_val_score(knn_model_no_weights, trainX, trainY, scoring='accuracy', cv=cv)\n",
        "pd.DataFrame(knn_no_weigths_scores).boxplot()"
      ],
      "execution_count": 28,
      "outputs": [
        {
          "output_type": "execute_result",
          "data": {
            "text/plain": [
              "<matplotlib.axes._subplots.AxesSubplot at 0x7f8dd413b290>"
            ]
          },
          "metadata": {},
          "execution_count": 28
        },
        {
          "output_type": "display_data",
          "data": {
            "image/png": "[encoded data removed]",
            "text/plain": [
              "<Figure size 432x288 with 1 Axes>"
            ]
          },
          "metadata": {
            "needs_background": "light"
          }
        }
      ]
    },
    {
      "cell_type": "code",
      "metadata": {
        "id": "JDFL3tnkLrMe"
      },
      "source": [
        ""
      ],
      "execution_count": 28,
      "outputs": []
    },
    {
      "cell_type": "code",
      "metadata": {
        "colab": {
          "base_uri": "https://localhost:8080/",
          "height": 283
        },
        "id": "UQzKUVBnLrX4",
        "outputId": "c78a4059-0727-4feb-97ca-7ed24c49de19"
      },
      "source": [
        "### KNN no weights\n",
        "knn_model_no_weights = KNeighborsClassifier(weights='distance')\n",
        "knn_no_weights_multiple_scores = cross_validate(knn_model_no_weights, trainX, trainY, scoring=scoring, cv=cv)\n",
        "knn_no_weights_complete_scores = pd.DataFrame(knn_no_weights_multiple_scores)[ [\"test_recall\", \"test_accuracy\", \"test_f1_score\"]]\n",
        "\n",
        "knn_no_weights_complete_scores.boxplot()"
      ],
      "execution_count": 29,
      "outputs": [
        {
          "output_type": "execute_result",
          "data": {
            "text/plain": [
              "<matplotlib.axes._subplots.AxesSubplot at 0x7f8dd412cc90>"
            ]
          },
          "metadata": {},
          "execution_count": 29
        },
        {
          "output_type": "display_data",
          "data": {
            "image/png": "[encoded data removed]",
            "text/plain": [
              "<Figure size 432x288 with 1 Axes>"
            ]
          },
          "metadata": {
            "needs_background": "light"
          }
        }
      ]
    },
    {
      "cell_type": "markdown",
      "metadata": {
        "id": "i6cQ053-Gxf-"
      },
      "source": [
        "# Resultados\n"
      ]
    },
    {
      "cell_type": "markdown",
      "metadata": {
        "id": "rREeLCd2G5LT"
      },
      "source": [
        "## Regresión Logística"
      ]
    },
    {
      "cell_type": "code",
      "metadata": {
        "colab": {
          "base_uri": "https://localhost:8080/"
        },
        "id": "iNZe6Q_Xnybi",
        "outputId": "b1c197d6-585c-4f4a-c810-8598b539f321"
      },
      "source": [
        "lr_model = LogisticRegression(class_weight=\"balanced\").fit(trainX, trainY)\n",
        "lr_predictions = lr_model.predict(testX)\n",
        "print(accuracy_score(testY, lr_predictions))\n",
        "print(confusion_matrix(testY, lr_predictions))\n",
        "print(classification_report(testY, lr_predictions))"
      ],
      "execution_count": 30,
      "outputs": [
        {
          "output_type": "stream",
          "name": "stdout",
          "text": [
            "0.6935483870967742\n",
            "[[32 14]\n",
            " [ 5 11]]\n",
            "              precision    recall  f1-score   support\n",
            "\n",
            "           1       0.86      0.70      0.77        46\n",
            "           2       0.44      0.69      0.54        16\n",
            "\n",
            "    accuracy                           0.69        62\n",
            "   macro avg       0.65      0.69      0.65        62\n",
            "weighted avg       0.76      0.69      0.71        62\n",
            "\n"
          ]
        }
      ]
    },
    {
      "cell_type": "markdown",
      "metadata": {
        "id": "9FVKv3lDG8_d"
      },
      "source": [
        "## Regresión logística sin pesos"
      ]
    },
    {
      "cell_type": "code",
      "metadata": {
        "colab": {
          "base_uri": "https://localhost:8080/"
        },
        "id": "IoROSxsNGEkf",
        "outputId": "773daba7-5e42-4ce0-dc3c-c58da2dc51e9"
      },
      "source": [
        "lr_model_no_wieight = LogisticRegression().fit(trainX, trainY)\n",
        "lr_no_weights_predictions = lr_model_no_wieight.predict(testX)\n",
        "print(accuracy_score(testY, lr_no_weights_predictions))\n",
        "print(confusion_matrix(testY, lr_no_weights_predictions))\n",
        "print(classification_report(testY, lr_no_weights_predictions))"
      ],
      "execution_count": 31,
      "outputs": [
        {
          "output_type": "stream",
          "name": "stdout",
          "text": [
            "0.7741935483870968\n",
            "[[43  3]\n",
            " [11  5]]\n",
            "              precision    recall  f1-score   support\n",
            "\n",
            "           1       0.80      0.93      0.86        46\n",
            "           2       0.62      0.31      0.42        16\n",
            "\n",
            "    accuracy                           0.77        62\n",
            "   macro avg       0.71      0.62      0.64        62\n",
            "weighted avg       0.75      0.77      0.75        62\n",
            "\n"
          ]
        }
      ]
    },
    {
      "cell_type": "markdown",
      "metadata": {
        "id": "o7fXFnn3L7bd"
      },
      "source": [
        "## SVM"
      ]
    },
    {
      "cell_type": "code",
      "metadata": {
        "colab": {
          "base_uri": "https://localhost:8080/"
        },
        "id": "yzXI3-vmwwTx",
        "outputId": "a53611a2-4eb6-4192-b1dc-312b751055ff"
      },
      "source": [
        "svm = SVC().fit(trainX, trainY)\n",
        "svm_predictions = svm.predict(testX)\n",
        "print(accuracy_score(testY, svm_predictions))\n",
        "print(confusion_matrix(testY, svm_predictions))\n",
        "print(classification_report(testY, svm_predictions))"
      ],
      "execution_count": 32,
      "outputs": [
        {
          "output_type": "stream",
          "name": "stdout",
          "text": [
            "0.7419354838709677\n",
            "[[46  0]\n",
            " [16  0]]\n",
            "              precision    recall  f1-score   support\n",
            "\n",
            "           1       0.74      1.00      0.85        46\n",
            "           2       0.00      0.00      0.00        16\n",
            "\n",
            "    accuracy                           0.74        62\n",
            "   macro avg       0.37      0.50      0.43        62\n",
            "weighted avg       0.55      0.74      0.63        62\n",
            "\n"
          ]
        },
        {
          "output_type": "stream",
          "name": "stderr",
          "text": [
            "/usr/local/lib/python3.7/dist-packages/sklearn/metrics/_classification.py:1272: UndefinedMetricWarning: Precision and F-score are ill-defined and being set to 0.0 in labels with no predicted samples. Use `zero_division` parameter to control this behavior.\n",
            "  _warn_prf(average, modifier, msg_start, len(result))\n"
          ]
        }
      ]
    },
    {
      "cell_type": "markdown",
      "metadata": {
        "id": "WAkn6_HdL-VP"
      },
      "source": [
        "## MLP"
      ]
    },
    {
      "cell_type": "code",
      "metadata": {
        "colab": {
          "base_uri": "https://localhost:8080/"
        },
        "id": "AtyzlYL7qNkx",
        "outputId": "046ceb4a-3b11-43bc-e0a3-a4a2275dedab"
      },
      "source": [
        "mlp_model = MLPClassifier().fit(trainX, trainY)\n",
        "mlp_predictions = mlp_model.predict(testX)\n",
        "print(accuracy_score(testY, mlp_predictions))\n",
        "print(confusion_matrix(testY, mlp_predictions))\n",
        "print(classification_report(testY, mlp_predictions))"
      ],
      "execution_count": 33,
      "outputs": [
        {
          "output_type": "stream",
          "name": "stdout",
          "text": [
            "0.7903225806451613\n",
            "[[43  3]\n",
            " [10  6]]\n",
            "              precision    recall  f1-score   support\n",
            "\n",
            "           1       0.81      0.93      0.87        46\n",
            "           2       0.67      0.38      0.48        16\n",
            "\n",
            "    accuracy                           0.79        62\n",
            "   macro avg       0.74      0.65      0.67        62\n",
            "weighted avg       0.77      0.79      0.77        62\n",
            "\n"
          ]
        }
      ]
    },
    {
      "cell_type": "markdown",
      "metadata": {
        "id": "WwKNdiW9MAZ_"
      },
      "source": [
        "## KNN"
      ]
    },
    {
      "cell_type": "code",
      "metadata": {
        "colab": {
          "base_uri": "https://localhost:8080/"
        },
        "id": "SXw8Yt80qe6M",
        "outputId": "e747e04e-c548-4a4a-f74c-1e08f1ec4a50"
      },
      "source": [
        "knn = KNeighborsClassifier(weights='distance').fit(trainX, trainY)\n",
        "knn_predictions = knn.predict(testX)\n",
        "print(accuracy_score(testY, knn_predictions))\n",
        "print(confusion_matrix(testY, knn_predictions))\n",
        "print(classification_report(testY, knn_predictions))"
      ],
      "execution_count": 34,
      "outputs": [
        {
          "output_type": "stream",
          "name": "stdout",
          "text": [
            "0.7096774193548387\n",
            "[[37  9]\n",
            " [ 9  7]]\n",
            "              precision    recall  f1-score   support\n",
            "\n",
            "           1       0.80      0.80      0.80        46\n",
            "           2       0.44      0.44      0.44        16\n",
            "\n",
            "    accuracy                           0.71        62\n",
            "   macro avg       0.62      0.62      0.62        62\n",
            "weighted avg       0.71      0.71      0.71        62\n",
            "\n"
          ]
        }
      ]
    },
    {
      "cell_type": "markdown",
      "metadata": {
        "id": "okXvZCGDMDaJ"
      },
      "source": [
        "## KNN no weights"
      ]
    },
    {
      "cell_type": "code",
      "metadata": {
        "colab": {
          "base_uri": "https://localhost:8080/"
        },
        "id": "WSpQQaMnMO47",
        "outputId": "c4c866d3-6abe-4e7f-9200-72c555b7a956"
      },
      "source": [
        "knn_no_weigths = KNeighborsClassifier().fit(trainX, trainY)\n",
        "knn_no_weigths_predictions = knn_no_weigths.predict(testX)\n",
        "print(accuracy_score(testY, knn_no_weigths_predictions))\n",
        "print(confusion_matrix(testY, knn_no_weigths_predictions))\n",
        "print(classification_report(testY, knn_no_weigths_predictions))"
      ],
      "execution_count": 35,
      "outputs": [
        {
          "output_type": "stream",
          "name": "stdout",
          "text": [
            "0.7419354838709677\n",
            "[[41  5]\n",
            " [11  5]]\n",
            "              precision    recall  f1-score   support\n",
            "\n",
            "           1       0.79      0.89      0.84        46\n",
            "           2       0.50      0.31      0.38        16\n",
            "\n",
            "    accuracy                           0.74        62\n",
            "   macro avg       0.64      0.60      0.61        62\n",
            "weighted avg       0.71      0.74      0.72        62\n",
            "\n"
          ]
        }
      ]
    },
    {
      "cell_type": "code",
      "metadata": {
        "colab": {
          "base_uri": "https://localhost:8080/",
          "height": 283
        },
        "id": "hFaKC092rJp0",
        "outputId": "f604142e-4fe0-4b2d-81d8-0469a5cb10b0"
      },
      "source": [
        "\n",
        "colnames = [\"MLP\", 'KNN',\"KNN_NW\", 'LR', 'LR_NW', 'SVM']\n",
        "\n",
        "accuracy_scores = pd.DataFrame([mlp_scores, knn_scores, knn_no_weigths_scores, lr_scores,lr_no_w_scores, svm_scores]).transpose()\n",
        "accuracy_scores.columns = colnames\n",
        "accuracy_scores.head()\n",
        "accuracy_scores.boxplot()"
      ],
      "execution_count": 36,
      "outputs": [
        {
          "output_type": "execute_result",
          "data": {
            "text/plain": [
              "<matplotlib.axes._subplots.AxesSubplot at 0x7f8dd4033410>"
            ]
          },
          "metadata": {},
          "execution_count": 36
        },
        {
          "output_type": "display_data",
          "data": {
            "image/png": "[encoded data removed]",
            "text/plain": [
              "<Figure size 432x288 with 1 Axes>"
            ]
          },
          "metadata": {
            "needs_background": "light"
          }
        }
      ]
    },
    {
      "cell_type": "code",
      "metadata": {
        "id": "zaUdLPSQ_mxr",
        "colab": {
          "base_uri": "https://localhost:8080/",
          "height": 283
        },
        "outputId": "d0eeaae3-f47e-4ab5-e059-b7366cc029af"
      },
      "source": [
        "fig, ax = plt.subplots()\n",
        "colnames = [\"MLP\", 'KNN', 'KNN_NW', 'LR','LR_NW', 'SVM']\n",
        "\n",
        "complete_accuracy_scores = pd.DataFrame([mlp_complete_scores[\"test_recall\"], knn_complete_scores[\"test_recall\"], \n",
        "                                knn_no_weights_complete_scores[\"test_recall\"], lr_complete_scores[\"test_recall\"], \n",
        "                                lr_no_w_complete_scores[\"test_recall\"],\n",
        "                                svm_complete_scores[\"test_recall\"]]).transpose()\n",
        "\n",
        "complete_accuracy_scores.head()\n",
        "complete_accuracy_scores.columns = colnames\n",
        "\n",
        "complete_accuracy_scores.boxplot()"
      ],
      "execution_count": 37,
      "outputs": [
        {
          "output_type": "execute_result",
          "data": {
            "text/plain": [
              "<matplotlib.axes._subplots.AxesSubplot at 0x7f8dd3efaa50>"
            ]
          },
          "metadata": {},
          "execution_count": 37
        },
        {
          "output_type": "display_data",
          "data": {
            "image/png": "[encoded data removed]",
            "text/plain": [
              "<Figure size 432x288 with 1 Axes>"
            ]
          },
          "metadata": {
            "needs_background": "light"
          }
        }
      ]
    },
    {
      "cell_type": "markdown",
      "metadata": {
        "id": "92Z0AULlISNU"
      },
      "source": [
        "# Conclusiones\n",
        "\n",
        "Todos los modelos muestran buenos resultados de precisión, los que más constantes son y mejor pronostican el caso 2 (cuando las personas mueren en durante 5 años) son KNN, Regresión Logística y MLP. En mi opinión el mejor modelos que tenemos en este caso es el KNN ya que pronostica muy bien los casos 1 y 2 y su recall es constante y tiene una buena distribución de resultados sin tantos outliers como es el caso de MLP.  (muy cerca de 1). \n",
        "\n",
        "El KNN sin pesos es un poco menos eficiente que el KNN con pesos y los datos de precisión así como de recall tienen una rango más amplio de resultados. \n",
        "\n",
        "El peor modelos en este caso es el SVC, ya que no es bueno pronosticando la clase número 2. \n",
        "\n"
      ]
    }
  ]
}